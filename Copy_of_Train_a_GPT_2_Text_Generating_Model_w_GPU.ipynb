{
  "nbformat": 4,
  "nbformat_minor": 0,
  "metadata": {
    "colab": {
      "name": "Copy of Train a GPT-2 Text-Generating Model w/ GPU",
      "provenance": [],
      "collapsed_sections": [],
      "include_colab_link": true
    },
    "kernelspec": {
      "name": "python3",
      "display_name": "Python 3"
    },
    "accelerator": "GPU"
  },
  "cells": [
    {
      "cell_type": "markdown",
      "metadata": {
        "id": "view-in-github",
        "colab_type": "text"
      },
      "source": [
        "<a href=\"https://colab.research.google.com/github/MuchenZhang/cooking-AI/blob/master/Copy_of_Train_a_GPT_2_Text_Generating_Model_w_GPU.ipynb\" target=\"_parent\"><img src=\"https://colab.research.google.com/assets/colab-badge.svg\" alt=\"Open In Colab\"/></a>"
      ]
    },
    {
      "cell_type": "markdown",
      "metadata": {
        "id": "H7LoMj4GA4n_",
        "colab_type": "text"
      },
      "source": [
        "#  Train a GPT-2 Text-Generating Model w/ GPU For Free \n",
        "\n",
        "by [Max Woolf](http://minimaxir.com)\n",
        "\n",
        "*Last updated: November 10th, 2019*\n",
        "\n",
        "Retrain an advanced text generating neural network on any text dataset **for free on a GPU using Collaboratory** using `gpt-2-simple`!\n",
        "\n",
        "For more about `gpt-2-simple`, you can visit [this GitHub repository](https://github.com/minimaxir/gpt-2-simple). You can also read my [blog post](https://minimaxir.com/2019/09/howto-gpt2/) for more information how to use this notebook!\n",
        "\n",
        "\n",
        "To get started:\n",
        "\n",
        "1. Copy this notebook to your Google Drive to keep it and save your changes. (File -> Save a Copy in Drive)\n",
        "2. Make sure you're running the notebook in Google Chrome.\n",
        "3. Run the cells below:\n"
      ]
    },
    {
      "cell_type": "code",
      "metadata": {
        "id": "KBkpRgBCBS2_",
        "colab_type": "code",
        "colab": {
          "base_uri": "https://localhost:8080/",
          "height": 170
        },
        "outputId": "b1928d8c-613e-468c-eb12-3bb73f589789"
      },
      "source": [
        "%tensorflow_version 1.x\n",
        "!pip install -q gpt-2-simple\n",
        "import gpt_2_simple as gpt2\n",
        "from datetime import datetime\n",
        "from google.colab import files"
      ],
      "execution_count": 1,
      "outputs": [
        {
          "output_type": "stream",
          "text": [
            "TensorFlow 1.x selected.\n",
            "WARNING:tensorflow:\n",
            "The TensorFlow contrib module will not be included in TensorFlow 2.0.\n",
            "For more information, please see:\n",
            "  * https://github.com/tensorflow/community/blob/master/rfcs/20180907-contrib-sunset.md\n",
            "  * https://github.com/tensorflow/addons\n",
            "  * https://github.com/tensorflow/io (for I/O related ops)\n",
            "If you depend on functionality not listed there, please file an issue.\n",
            "\n"
          ],
          "name": "stdout"
        }
      ]
    },
    {
      "cell_type": "markdown",
      "metadata": {
        "id": "Bj2IJLHP3KwE",
        "colab_type": "text"
      },
      "source": [
        "## GPU\n",
        "\n",
        "Colaboratory uses either a Nvidia T4 GPU or an Nvidia K80 GPU. The T4 is slightly faster than the old K80 for training GPT-2, and has more memory allowing you to train the larger GPT-2 models and generate more text.\n",
        "\n",
        "You can verify which GPU is active by running the cell below."
      ]
    },
    {
      "cell_type": "code",
      "metadata": {
        "id": "sUmTooTW3osf",
        "colab_type": "code",
        "colab": {
          "base_uri": "https://localhost:8080/",
          "height": 357
        },
        "outputId": "4bb2c056-4a54-455f-d0c6-7f7390f5ca89"
      },
      "source": [
        "!nvidia-smi"
      ],
      "execution_count": 2,
      "outputs": [
        {
          "output_type": "stream",
          "text": [
            "Sun Jul 26 16:05:17 2020       \n",
            "+-----------------------------------------------------------------------------+\n",
            "| NVIDIA-SMI 450.51.05    Driver Version: 418.67       CUDA Version: 10.1     |\n",
            "|-------------------------------+----------------------+----------------------+\n",
            "| GPU  Name        Persistence-M| Bus-Id        Disp.A | Volatile Uncorr. ECC |\n",
            "| Fan  Temp  Perf  Pwr:Usage/Cap|         Memory-Usage | GPU-Util  Compute M. |\n",
            "|                               |                      |               MIG M. |\n",
            "|===============================+======================+======================|\n",
            "|   0  Tesla K80           Off  | 00000000:00:04.0 Off |                    0 |\n",
            "| N/A   69C    P8    31W / 149W |      0MiB / 11441MiB |      0%      Default |\n",
            "|                               |                      |                 ERR! |\n",
            "+-------------------------------+----------------------+----------------------+\n",
            "                                                                               \n",
            "+-----------------------------------------------------------------------------+\n",
            "| Processes:                                                                  |\n",
            "|  GPU   GI   CI        PID   Type   Process name                  GPU Memory |\n",
            "|        ID   ID                                                   Usage      |\n",
            "|=============================================================================|\n",
            "|  No running processes found                                                 |\n",
            "+-----------------------------------------------------------------------------+\n"
          ],
          "name": "stdout"
        }
      ]
    },
    {
      "cell_type": "markdown",
      "metadata": {
        "id": "0wXB05bPDYxS",
        "colab_type": "text"
      },
      "source": [
        "## Downloading GPT-2\n",
        "\n",
        "If you're retraining a model on new text, you need to download the GPT-2 model first. \n",
        "\n",
        "There are three released sizes of GPT-2:\n",
        "\n",
        "* `124M` (default): the \"small\" model, 500MB on disk.\n",
        "* `355M`: the \"medium\" model, 1.5GB on disk.\n",
        "* `774M`: the \"large\" model, cannot currently be finetuned with Colaboratory but can be used to generate text from the pretrained model (see later in Notebook)\n",
        "* `1558M`: the \"extra large\", true model. Will not work if a K80 GPU is attached to the notebook. (like `774M`, it cannot be finetuned).\n",
        "\n",
        "Larger models have more knowledge, but take longer to finetune and longer to generate text. You can specify which base model to use by changing `model_name` in the cells below.\n",
        "\n",
        "The next cell downloads it from Google Cloud Storage and saves it in the Colaboratory VM at `/models/<model_name>`.\n",
        "\n",
        "This model isn't permanently saved in the Colaboratory VM; you'll have to redownload it if you want to retrain it at a later time."
      ]
    },
    {
      "cell_type": "code",
      "metadata": {
        "id": "P8wSlgXoDPCR",
        "colab_type": "code",
        "colab": {
          "base_uri": "https://localhost:8080/",
          "height": 136
        },
        "outputId": "7c439e68-142a-4f49-ae38-b30b0b9f43a7"
      },
      "source": [
        "gpt2.download_gpt2(model_name=\"124M\")"
      ],
      "execution_count": 3,
      "outputs": [
        {
          "output_type": "stream",
          "text": [
            "Fetching checkpoint: 1.05Mit [00:00, 306Mit/s]                                                      \n",
            "Fetching encoder.json: 1.05Mit [00:00, 90.6Mit/s]                                                   \n",
            "Fetching hparams.json: 1.05Mit [00:00, 289Mit/s]                                                    \n",
            "Fetching model.ckpt.data-00000-of-00001: 498Mit [00:03, 138Mit/s]                                   \n",
            "Fetching model.ckpt.index: 1.05Mit [00:00, 275Mit/s]                                                \n",
            "Fetching model.ckpt.meta: 1.05Mit [00:00, 155Mit/s]                                                 \n",
            "Fetching vocab.bpe: 1.05Mit [00:00, 160Mit/s]                                                       \n"
          ],
          "name": "stderr"
        }
      ]
    },
    {
      "cell_type": "markdown",
      "metadata": {
        "id": "N8KXuKWzQSsN",
        "colab_type": "text"
      },
      "source": [
        "## Mounting Google Drive\n",
        "\n",
        "The best way to get input text to-be-trained into the Colaboratory VM, and to get the trained model *out* of Colaboratory, is to route it through Google Drive *first*.\n",
        "\n",
        "Running this cell (which will only work in Colaboratory) will mount your personal Google Drive in the VM, which later cells can use to get data in/out. (it will ask for an auth code; that auth is not saved anywhere)"
      ]
    },
    {
      "cell_type": "code",
      "metadata": {
        "id": "puq4iC6vUAHc",
        "colab_type": "code",
        "colab": {
          "base_uri": "https://localhost:8080/",
          "height": 34
        },
        "outputId": "2ad4cf1d-9743-43ea-f3d0-b21a53e21d90"
      },
      "source": [
        "gpt2.mount_gdrive()"
      ],
      "execution_count": 20,
      "outputs": [
        {
          "output_type": "stream",
          "text": [
            "Drive already mounted at /content/drive; to attempt to forcibly remount, call drive.mount(\"/content/drive\", force_remount=True).\n"
          ],
          "name": "stdout"
        }
      ]
    },
    {
      "cell_type": "markdown",
      "metadata": {
        "id": "BT__brhBCvJu",
        "colab_type": "text"
      },
      "source": [
        "## Uploading a Text File to be Trained to Colaboratory\n",
        "\n",
        "In the Colaboratory Notebook sidebar on the left of the screen, select *Files*. From there you can upload files:\n",
        "\n",
        "![alt text](https://i.imgur.com/TGcZT4h.png)\n",
        "\n",
        "Upload **any smaller text file**  (<10 MB) and update the file name in the cell below, then run the cell."
      ]
    },
    {
      "cell_type": "code",
      "metadata": {
        "id": "6OFnPCLADfll",
        "colab_type": "code",
        "colab": {}
      },
      "source": [
        "file_name = \"copy-of-recipes-without-bread.txt\""
      ],
      "execution_count": 4,
      "outputs": []
    },
    {
      "cell_type": "markdown",
      "metadata": {
        "id": "HeeSKtNWUedE",
        "colab_type": "text"
      },
      "source": [
        "If your text file is larger than 10MB, it is recommended to upload that file to Google Drive first, then copy that file from Google Drive to the Colaboratory VM."
      ]
    },
    {
      "cell_type": "code",
      "metadata": {
        "id": "-Z6okFD8VKtS",
        "colab_type": "code",
        "colab": {
          "base_uri": "https://localhost:8080/",
          "height": 306
        },
        "outputId": "7361d2da-c946-4cda-c697-a5ef28699131"
      },
      "source": [
        "gpt2.copy_file_from_gdrive(\"copy-of-recipes-without-bread.txt\")"
      ],
      "execution_count": 6,
      "outputs": [
        {
          "output_type": "error",
          "ename": "FileNotFoundError",
          "evalue": "ignored",
          "traceback": [
            "\u001b[0;31m---------------------------------------------------------------------------\u001b[0m",
            "\u001b[0;31mFileNotFoundError\u001b[0m                         Traceback (most recent call last)",
            "\u001b[0;32m<ipython-input-6-0718b4bf013a>\u001b[0m in \u001b[0;36m<module>\u001b[0;34m()\u001b[0m\n\u001b[0;32m----> 1\u001b[0;31m \u001b[0mgpt2\u001b[0m\u001b[0;34m.\u001b[0m\u001b[0mcopy_file_from_gdrive\u001b[0m\u001b[0;34m(\u001b[0m\u001b[0;34m\"copy-of-recipes-without-bread.txt\"\u001b[0m\u001b[0;34m)\u001b[0m\u001b[0;34m\u001b[0m\u001b[0;34m\u001b[0m\u001b[0m\n\u001b[0m",
            "\u001b[0;32m/usr/local/lib/python3.6/dist-packages/gpt_2_simple/gpt_2.py\u001b[0m in \u001b[0;36mcopy_file_from_gdrive\u001b[0;34m(file_path)\u001b[0m\n\u001b[1;32m    611\u001b[0m     \u001b[0mis_mounted\u001b[0m\u001b[0;34m(\u001b[0m\u001b[0;34m)\u001b[0m\u001b[0;34m\u001b[0m\u001b[0;34m\u001b[0m\u001b[0m\n\u001b[1;32m    612\u001b[0m \u001b[0;34m\u001b[0m\u001b[0m\n\u001b[0;32m--> 613\u001b[0;31m     \u001b[0mshutil\u001b[0m\u001b[0;34m.\u001b[0m\u001b[0mcopyfile\u001b[0m\u001b[0;34m(\u001b[0m\u001b[0;34m\"/content/drive/My Drive/\"\u001b[0m \u001b[0;34m+\u001b[0m \u001b[0mfile_path\u001b[0m\u001b[0;34m,\u001b[0m \u001b[0mfile_path\u001b[0m\u001b[0;34m)\u001b[0m\u001b[0;34m\u001b[0m\u001b[0;34m\u001b[0m\u001b[0m\n\u001b[0m\u001b[1;32m    614\u001b[0m \u001b[0;34m\u001b[0m\u001b[0m\n\u001b[1;32m    615\u001b[0m \u001b[0;34m\u001b[0m\u001b[0m\n",
            "\u001b[0;32m/usr/lib/python3.6/shutil.py\u001b[0m in \u001b[0;36mcopyfile\u001b[0;34m(src, dst, follow_symlinks)\u001b[0m\n\u001b[1;32m    118\u001b[0m         \u001b[0mos\u001b[0m\u001b[0;34m.\u001b[0m\u001b[0msymlink\u001b[0m\u001b[0;34m(\u001b[0m\u001b[0mos\u001b[0m\u001b[0;34m.\u001b[0m\u001b[0mreadlink\u001b[0m\u001b[0;34m(\u001b[0m\u001b[0msrc\u001b[0m\u001b[0;34m)\u001b[0m\u001b[0;34m,\u001b[0m \u001b[0mdst\u001b[0m\u001b[0;34m)\u001b[0m\u001b[0;34m\u001b[0m\u001b[0;34m\u001b[0m\u001b[0m\n\u001b[1;32m    119\u001b[0m     \u001b[0;32melse\u001b[0m\u001b[0;34m:\u001b[0m\u001b[0;34m\u001b[0m\u001b[0;34m\u001b[0m\u001b[0m\n\u001b[0;32m--> 120\u001b[0;31m         \u001b[0;32mwith\u001b[0m \u001b[0mopen\u001b[0m\u001b[0;34m(\u001b[0m\u001b[0msrc\u001b[0m\u001b[0;34m,\u001b[0m \u001b[0;34m'rb'\u001b[0m\u001b[0;34m)\u001b[0m \u001b[0;32mas\u001b[0m \u001b[0mfsrc\u001b[0m\u001b[0;34m:\u001b[0m\u001b[0;34m\u001b[0m\u001b[0;34m\u001b[0m\u001b[0m\n\u001b[0m\u001b[1;32m    121\u001b[0m             \u001b[0;32mwith\u001b[0m \u001b[0mopen\u001b[0m\u001b[0;34m(\u001b[0m\u001b[0mdst\u001b[0m\u001b[0;34m,\u001b[0m \u001b[0;34m'wb'\u001b[0m\u001b[0;34m)\u001b[0m \u001b[0;32mas\u001b[0m \u001b[0mfdst\u001b[0m\u001b[0;34m:\u001b[0m\u001b[0;34m\u001b[0m\u001b[0;34m\u001b[0m\u001b[0m\n\u001b[1;32m    122\u001b[0m                 \u001b[0mcopyfileobj\u001b[0m\u001b[0;34m(\u001b[0m\u001b[0mfsrc\u001b[0m\u001b[0;34m,\u001b[0m \u001b[0mfdst\u001b[0m\u001b[0;34m)\u001b[0m\u001b[0;34m\u001b[0m\u001b[0;34m\u001b[0m\u001b[0m\n",
            "\u001b[0;31mFileNotFoundError\u001b[0m: [Errno 2] No such file or directory: '/content/drive/My Drive/copy-of-recipes-without-bread.txt'"
          ]
        }
      ]
    },
    {
      "cell_type": "code",
      "metadata": {
        "id": "zKQs9H8IN1X-",
        "colab_type": "code",
        "colab": {
          "base_uri": "https://localhost:8080/",
          "height": 34
        },
        "outputId": "cf8620a5-cdb3-4f38-b2e4-5efe7e36d0f3"
      },
      "source": [
        "from google.colab import drive\n",
        "drive.mount('/content/drive')"
      ],
      "execution_count": 7,
      "outputs": [
        {
          "output_type": "stream",
          "text": [
            "Drive already mounted at /content/drive; to attempt to forcibly remount, call drive.mount(\"/content/drive\", force_remount=True).\n"
          ],
          "name": "stdout"
        }
      ]
    },
    {
      "cell_type": "markdown",
      "metadata": {
        "id": "LdpZQXknFNY3",
        "colab_type": "text"
      },
      "source": [
        "## Finetune GPT-2\n",
        "\n",
        "The next cell will start the actual finetuning of GPT-2. It creates a persistent TensorFlow session which stores the training config, then runs the training for the specified number of `steps`. (to have the finetuning run indefinitely, set `steps = -1`)\n",
        "\n",
        "The model checkpoints will be saved in `/checkpoint/run1` by default. The checkpoints are saved every 500 steps (can be changed) and when the cell is stopped.\n",
        "\n",
        "The training might time out after 4ish hours; make sure you end training and save the results so you don't lose them!\n",
        "\n",
        "**IMPORTANT NOTE:** If you want to rerun this cell, **restart the VM first** (Runtime -> Restart Runtime). You will need to rerun imports but not recopy files.\n",
        "\n",
        "Other optional-but-helpful parameters for `gpt2.finetune`:\n",
        "\n",
        "\n",
        "*  **`restore_from`**: Set to `fresh` to start training from the base GPT-2, or set to `latest` to restart training from an existing checkpoint.\n",
        "* **`sample_every`**: Number of steps to print example output\n",
        "* **`print_every`**: Number of steps to print training progress.\n",
        "* **`learning_rate`**:  Learning rate for the training. (default `1e-4`, can lower to `1e-5` if you have <1MB input data)\n",
        "*  **`run_name`**: subfolder within `checkpoint` to save the model. This is useful if you want to work with multiple models (will also need to specify  `run_name` when loading the model)\n",
        "* **`overwrite`**: Set to `True` if you want to continue finetuning an existing model (w/ `restore_from='latest'`) without creating duplicate copies. "
      ]
    },
    {
      "cell_type": "code",
      "metadata": {
        "id": "aeXshJM-Cuaf",
        "colab_type": "code",
        "colab": {
          "base_uri": "https://localhost:8080/",
          "height": 1000
        },
        "outputId": "c04d617c-72f9-4514-f878-cc6be33177f9"
      },
      "source": [
        "sess = gpt2.start_tf_sess()\n",
        "\n",
        "gpt2.finetune(sess,\n",
        "              dataset=file_name,\n",
        "              model_name='124M',\n",
        "              steps=1000,\n",
        "              restore_from='fresh',\n",
        "              run_name='run1',\n",
        "              print_every=10,\n",
        "              sample_every=200,\n",
        "              save_every=500\n",
        "              )"
      ],
      "execution_count": 8,
      "outputs": [
        {
          "output_type": "stream",
          "text": [
            "WARNING:tensorflow:From /usr/local/lib/python3.6/dist-packages/gpt_2_simple/src/sample.py:17: where (from tensorflow.python.ops.array_ops) is deprecated and will be removed in a future version.\n",
            "Instructions for updating:\n",
            "Use tf.where in 2.0, which has the same broadcast rule as np.where\n",
            "Loading checkpoint models/124M/model.ckpt\n",
            "INFO:tensorflow:Restoring parameters from models/124M/model.ckpt\n"
          ],
          "name": "stdout"
        },
        {
          "output_type": "stream",
          "text": [
            "100%|██████████| 1/1 [00:00<00:00,  5.46it/s]"
          ],
          "name": "stderr"
        },
        {
          "output_type": "stream",
          "text": [
            "Loading dataset...\n",
            "dataset has 26061 tokens\n",
            "Training...\n"
          ],
          "name": "stdout"
        },
        {
          "output_type": "stream",
          "text": [
            "\n"
          ],
          "name": "stderr"
        },
        {
          "output_type": "stream",
          "text": [
            "[10 | 53.25] loss=1.82 avg=1.82\n",
            "[20 | 99.60] loss=1.65 avg=1.73\n",
            "[30 | 145.95] loss=1.39 avg=1.62\n",
            "[40 | 192.49] loss=0.99 avg=1.46\n",
            "[50 | 238.96] loss=0.81 avg=1.33\n",
            "[60 | 285.22] loss=0.56 avg=1.19\n",
            "[70 | 331.47] loss=0.44 avg=1.08\n",
            "[80 | 377.97] loss=0.23 avg=0.97\n",
            "[90 | 424.45] loss=0.16 avg=0.88\n",
            "[100 | 471.03] loss=0.19 avg=0.81\n",
            "[110 | 517.36] loss=0.09 avg=0.74\n",
            "[120 | 563.67] loss=0.11 avg=0.68\n",
            "[130 | 609.94] loss=0.11 avg=0.64\n",
            "[140 | 656.16] loss=0.06 avg=0.59\n",
            "[150 | 702.47] loss=0.06 avg=0.55\n",
            "[160 | 748.91] loss=0.06 avg=0.52\n",
            "[170 | 795.19] loss=0.04 avg=0.49\n",
            "[180 | 841.48] loss=0.08 avg=0.47\n",
            "[190 | 887.89] loss=0.05 avg=0.44\n",
            "[200 | 934.27] loss=0.04 avg=0.42\n",
            "======== SAMPLE 1 ========\n",
            " oil.\n",
            "   2. Preheat the oven to 350°F.\n",
            "   3. Mix the wet ingredients in a medium bowl and pour into the dry ingredients slowly into a fine-mesh sieve set over a large bowl. Pour into the medium and work in with your fingers or the handle of a large metal spatula to keep aloft. Keep going until the dough comes together and sticks to the parchment paper.\n",
            "   4. Roll into a circle about 13 inches in diameter and measure from the center to the perimeter. Punch out excess dough by the tablespoonful and place on a parchment or baking-mat-lined cookie sheet.hangrily eat.\n",
            "   5. Do Ahead: Dough can be made 3 days ahead. Wrap tightly and freeze. Cookies can be made 1 day ahead. Store in an airtight container at room temperature, or freeze up to 3 days.\n",
            "   1. \n",
            "\n",
            "Buckaroo Chunk Cookies\n",
            "INGREDIENTS\n",
            "   * 1 pound golden quality dough\n",
            "   * 1 cup all-purpose flour\n",
            "   * 2 teaspoons baking powder\n",
            "   * 1/2 teaspoon salt\n",
            "   * 1 tablespoon baking soda\n",
            "   * 1 teaspoon baking powder\n",
            "   * 1/4 teaspoon salt\n",
            "   * 1 tablespoon molasses, room temperature\n",
            "   * 2 cups high-quality peanut butter, generally store-bought\n",
            "PREPARATION\n",
            "   1. Place the ripe bananas in a small bowl.\n",
            "   2. Beat the sugar and butter in a small bowl until butter is melted and the sugar is dissolved.\n",
            "   3. Add the eggs and vanilla and gradually, using a rubber spatula, stir until incorporated.\n",
            "   4. Using the remaining ingredients, beat the beaters in a large medium bowl until they form a rough circle about 20 minutes.\n",
            "   5. Turn the mixer down to low speed and slowly, slowly, add the dry ingredients, mixing until all but one of the crumbs has disappeared.\n",
            "   6. Turn the batter into the prepared pan and smooth the top. Bake for about 1 hour and 5 minutes, until a wooden toothpick inserted into the center comes out clean.\n",
            "   7. Let cake stand in the pan for about 3 minutes and then cover with a rack and invert. Place over a large piece of aluminum foil or wax paper.\n",
            "   8. Do Ahead\n",
            "   1. Cake can be baked 4 days ahead. Store airtight at room temperature.\n",
            "   2. \n",
            "\n",
            "Buckwheat Banana Bread\n",
            "INGREDIENTS\n",
            "1. Dough:\n",
            "   * ¾ cup buttermilk or plain whole-milk yogurt\n",
            "   * 1 cup granulated sugar\n",
            "   * 2 eggs, at room temperature\n",
            "   * 2 teaspoons pure vanilla extract\n",
            "   * ½ teaspoon salt\n",
            "   * 2 cups raw fruit (including peaches, apples, and sour cherries)\n",
            "   * 2 cups hot cocoa powder or sifted sifted sifted\n",
            "   * 1 cup sour cream\n",
            "   * 2 cups all-purpose flour\n",
            "   * 2 cups self-rising flour or more\n",
            "   * 2 teaspoons baking soda\n",
            "   * 1 teaspoon baking powder\n",
            "   * ¼ cup vegetable oil\n",
            "   * 2 cups plain yogurt\n",
            "   * 2 cups dried fruit (cut into 1- to 4-inch pieces)\n",
            "   * ¼ cup plain yogurt\n",
            "   * 3 tablespoons sugar\n",
            "   * 1 teaspoon vanilla extract\n",
            "   * 2 to 4 tablespoons warm water\n",
            "2. Glaze:\n",
            "   * ¼ cup to ½ cup brewed black tequila\n",
            "   * ¼ cup to ¼ cup tequila vanilla extract\n",
            "   * ¾ cup sugar\n",
            "   * ½ lemon (plums, oranges, and peaches)\n",
            "PREPARATION\n",
            "1. Dough:\n",
            "   1. Preheat oven to 350°F. Coat an 8½x4½\" loaf pan with nonstick spray, then line with parchment paper, leaving overhang on long sides. Whisk flour, baking soda, baking powder, and ½ teaspoon salt in a medium bowl.\n",
            "   2. Mash bananas and brown sugar in a large bowl until virtually no lumps of banana remain and brown sugar is dissolved. Mix in eggs, yogurt, sugar, and vanilla. Add dry ingredients and mix in with a rubber spatula. Scrape batter into prepared pan and smooth top.\n",
            "   3. Bake cake until the top springs back when gently pressed and a tester inserted into the center comes out clean, 55–65 minutes. Transfer pan to a wire rack and let cake cool in pan 15 minutes. Turn out cake onto rack and let cool completely.\n",
            "2. Glaze:\n",
            "   1. Let cake cool, then use a candy thermometer to make an estimate. Set an\n",
            "\n",
            "[210 | 999.21] loss=0.05 avg=0.40\n",
            "[220 | 1045.63] loss=0.04 avg=0.38\n",
            "[230 | 1092.02] loss=0.04 avg=0.37\n",
            "[240 | 1138.37] loss=0.04 avg=0.35\n",
            "[250 | 1184.78] loss=0.04 avg=0.34\n",
            "[260 | 1231.14] loss=0.18 avg=0.33\n",
            "[270 | 1277.50] loss=0.03 avg=0.32\n",
            "[280 | 1323.91] loss=0.03 avg=0.31\n",
            "[290 | 1370.25] loss=0.04 avg=0.29\n",
            "[300 | 1416.63] loss=0.04 avg=0.28\n",
            "[310 | 1463.01] loss=0.03 avg=0.28\n",
            "[320 | 1509.45] loss=0.03 avg=0.27\n",
            "[330 | 1555.80] loss=0.03 avg=0.26\n",
            "[340 | 1602.22] loss=0.03 avg=0.25\n",
            "[350 | 1648.59] loss=0.04 avg=0.24\n",
            "[360 | 1695.00] loss=0.04 avg=0.24\n",
            "[370 | 1741.41] loss=0.03 avg=0.23\n",
            "[380 | 1787.74] loss=0.03 avg=0.22\n",
            "[390 | 1834.13] loss=0.03 avg=0.22\n",
            "[400 | 1880.47] loss=0.03 avg=0.21\n",
            "======== SAMPLE 1 ========\n",
            "\n",
            "\n",
            "One of the favorite spots to serve the honey buns is at a bar or restaurant. After you assemble the food and theroma are poured over, sit back and enjoy the fruit juices.\n",
            "\n",
            "\n",
            "Swirl Spice Cake\n",
            "INGREDIENTS\n",
            "1. Cake:\n",
            "   * 2 pints sugar-free chocolate chocolaty\n",
            "   * 2 Tbsp. unsalted butter, melted, slightly cooled\n",
            "   * 1½ lb. strawberries (about 1 quart), hulled, halved, quartered if large\n",
            "   * 1 Tbsp. fresh lemon juice\n",
            "   * ½ tsp. ground cardamom\n",
            "   * 3 Tbsp. honey\n",
            "   * 2 pints ice cream of your choice\n",
            "PREPARATION\n",
            "1. Crust:\n",
            "   1. Place a rack in middle of oven; preheat to 350°F. Toast coconut on a rimmed baking sheet until golden brown, 3–5 minutes. Let cool 5 minutes.\n",
            "   2. Place graham crackers in a large resealable plastic bag, seal, and crush to fine crumbs with a rolling pin or heavy pot. Transfer to a medium bowl. Add toasted coconut, coconut oil, and salt and toss to combine. Coconut Custard Dairy-Free Pie: By Any Means Necessary\n",
            "INGREDIENTS\n",
            "   * Nonstick vegetable oil spray\n",
            "   * 1 1/2 cups all-purpose flour\n",
            "   * 2 teaspoons baking powder\n",
            "   * 1 teaspoon baking soda\n",
            "   * 1/2 teaspoon kosher salt\n",
            "   * 3 large eggs\n",
            "   * 1 cup plain whole-milk yogurt\n",
            "   * 1/2 cup vegetable oil\n",
            "   * 2 teaspoons pure vanilla extract\n",
            "   * 2 cups powdered sugar\n",
            "   * 2 teaspoons cinnamon\n",
            "   * 1 teaspoon appendaldehyde\n",
            "   * 4 cups buttermilk\n",
            "   * 3 cups all-purpose flour\n",
            "   * 3 cups white vinegar\n",
            "   * 1 teaspoon baking powder\n",
            "   * 1/2 teaspoon kosher salt\n",
            "   * 1 cup buttermilk overnight in refrigerator\n",
            "   2. To make the crust:\n",
            "   1. Preheat oven to 350°F. Butter a 13x9\" pan and dust with 2 Tbsp. oil. Whisk eggs, milk, and salt in a large bowl. Add dry ingredients to egg mixture with a spoon or rubber spatula until incorporated. Switch to a rubber spatula and continue whisking vigorously (this time brushing off any excess liquid). Whisk flour, baking powder, baking soda, and remaining saccharin in a large bowl. Dollop on each slice before serving.\n",
            "\n",
            "\n",
            "Mochi Custard Pie, Poorly Told, and More\n",
            "Ingredients\n",
            "* 2 and 1/2 cups (250g) all-purpose flour\n",
            "   * 2 teaspoons baking powder\n",
            "   * 1/2 teaspoon kosher salt\n",
            "   * 1/4 teaspoon baking soda\n",
            "   * 1/2 teaspoon kosher salt\n",
            "   * 2 large eggs\n",
            "   * 1 teaspoon vanilla extract\n",
            "   * 2 cups (300g) granulated sugar\n",
            "   * 2 teaspoons pure vanilla extract\n",
            "   * 2 cups (250g) packed light or dark brown sugar\n",
            "   * 2 teaspoons vegetable oil\n",
            "PREPARATION\n",
            "   1. Arrange a rack in center of oven; preheat to 425°F. Toss 3 eggs in a small bowl; set aside.\n",
            "   2. Whisk flour, baking powder, baking soda, and salt in a large bowl. Make a well in the center; add eggs and vanilla and whiskers are whisked back to sides of bowl.\n",
            "   3. Scrape batter into prepared pan and sprinkle with granulated sugar. Scrape into a well in second well. Toss, until batter is evenly distributed (yes, batter will be slightly more varied). Pour over batter and spread evenly to edges of pan. Bake for 25 to 35 minutes, or until golden brown. Allow to cool on bars and in oven for 10 minutes to 1 hour.\n",
            "   4. Cool in pan and then turn out onto a platter before slicing.\n",
            "\n",
            "\n",
            "Homemade Dump Cake With Peaches, Blueberries, and Pecans\n",
            "Ingredients\n",
            "* 1 cup (2 sticks) unsalted butter, plus more for pan\n",
            "   * 4 large eggs\n",
            "   * 1/2 cup superfine sugar\n",
            "   * 4 teaspoons vanilla extract\n",
            "   * 1/2 teaspoon kosher salt\n",
            "   * 1 cup plus 2 tablespoons superfine sugar\n",
            "   * 1 teaspoon baking powder\n",
            "   * 3/4 teaspoon fine sea salt\n",
            "   * 1/2 cup sliced frozen peaches\n",
            "   * 1/4 cup fresh blueberries\n",
            "   * 1/3 cup fresh lemon juice\n",
            "   * 1/\n",
            "\n",
            "[410 | 1943.96] loss=0.03 avg=0.21\n",
            "[420 | 1990.37] loss=0.03 avg=0.20\n",
            "[430 | 2036.80] loss=0.03 avg=0.20\n",
            "[440 | 2083.16] loss=0.02 avg=0.19\n",
            "[450 | 2129.64] loss=0.02 avg=0.19\n",
            "[460 | 2176.00] loss=0.02 avg=0.18\n",
            "[470 | 2222.39] loss=0.04 avg=0.18\n",
            "[480 | 2268.80] loss=0.03 avg=0.17\n",
            "[490 | 2315.22] loss=0.03 avg=0.17\n",
            "[500 | 2361.62] loss=0.03 avg=0.17\n",
            "Saving checkpoint/run1/model-500\n",
            "[510 | 2411.10] loss=0.03 avg=0.16\n",
            "[520 | 2457.51] loss=0.02 avg=0.16\n",
            "[530 | 2504.02] loss=0.03 avg=0.16\n",
            "[540 | 2550.49] loss=0.02 avg=0.15\n",
            "[550 | 2596.89] loss=0.02 avg=0.15\n",
            "[560 | 2643.31] loss=0.02 avg=0.15\n",
            "[570 | 2689.69] loss=0.02 avg=0.14\n",
            "[580 | 2736.13] loss=0.02 avg=0.14\n",
            "[590 | 2782.52] loss=0.02 avg=0.14\n",
            "[600 | 2828.85] loss=0.03 avg=0.14\n",
            "======== SAMPLE 1 ========\n",
            "ENTS\n",
            "   * 4 large eggs\n",
            "   * 2 tsp. vanilla extract\n",
            "   * Vegetable oil (for frying: 4 tbsp.\n",
            "   * Zest of 2 pints coconut water or hand-blown bottles\n",
            "   * Zest of lime\n",
            "   * 1/4 cup organic cane sugar\n",
            "   * 1/2 cup organic unsweetened cocoa powder\n",
            "   * 2 tsp. ground cardamom\n",
            "   * 1/2 tsp. ground ginger\n",
            "   * 1 1/2 cups powdered sugar\n",
            "   * 2 eggs\n",
            "   * 2 eggs\n",
            "   * 2 teaspoons vanilla extract\n",
            "   * 1/2 cup organic cane sugar\n",
            "   * 1/4 cup organic unsweetened cocoa powder\n",
            "   * 2 tsp. ground cardamom\n",
            "   * 1/2 tsp. ground ginger\n",
            "   * 1 1/2 cups pecans\n",
            "PREPARATION\n",
            "   1. Preheat oven to 350°F. Butter and flour a 13x9\" pan. Arrange peaches and blueberries in a single layer in prepared pie. Top evenly with sugar and add vanilla. Shake pie pan gently to cover fruit with sugar. Sprinkle cake mix and sugar over fruit and shake gently again to combine. Dot evenly with 3/4 cup cubed butter and top with pecans. Bake cake until surface springs back to the touch and cake is set and golden brown, 40-45 minutes. Serve warm or at room temperature.\n",
            "1. Do Ahead\n",
            "   1. Cake can be made 3 days ahead; wrap in plastic and chill.\n",
            "\n",
            "\n",
            "Blackberry-Tahini Yogurt Cake\n",
            "INGREDIENTS\n",
            "   * 1/2 teaspoon ground cardamom or cinnamon\n",
            "   * 4 tablespoons plus 1 cup sugar\n",
            "   * 2 1/4 cups all-purpose flour\n",
            "   * 2 teaspoons baking powder\n",
            "   * 1/2 teaspoon kosher salt, plus more\n",
            "   * 2 large eggs\n",
            "   * 1 cup plain whole-milk yogurt\n",
            "   * 1/2 cup vegetable oil\n",
            "   * 2 teaspoons finely grated lemon, lime, or orange zest\n",
            "   * 2 cups fresh (or frozen, thawed) blackberries\n",
            "   * 1/4 cup tahini\n",
            "PREPARATION\n",
            "   1. Preheat oven to 350°F. Lightly coat a 9\"-diameter cake pan with nonstick spray; line bottom with a parchment paper round. Lightly coat parchment with nonstick spray. Mix cardamom and 2 Tbsp. sugar in a small bowl; set aside.\n",
            "   2. Whisk flour, baking powder, 1 cup sugar, and 1/2 tsp. salt in a large bowl. Make a well in the center; add eggs, yogurt, oil, and citrus zest and whisk to combine. Switch to a wooden spoon or rubber spatula and gradually work in dry ingredients, mixing until smooth. Fold in berries; scrape batter into prepared pan.\n",
            "   3. Mix tahini, a pinch of salt, and remaining 2 Tbsp. sugar in another small bowl. Drizzle evenly over batter; sprinkle reserved cardamom sugar over top.\n",
            "   4. Bake cake until a tester inserted into the center comes out clean, 50–60 minutes. Transfer to a wire rack; let cool in pan. Invert onto a plate, then turn right side up.\n",
            "1. Do Ahead\n",
            "   1. Cake can be baked 2 days ahead. Store tightly covered at room temperature.\n",
            "\n",
            "\n",
            "3-Ingredient Flourless Chocolate Cake\n",
            "INGREDIENTS\n",
            "   * 1 cup (2 sticks) unsalted butter, plus more for pan\n",
            "   * 8 large eggs\n",
            "   * 16 ounces semisweet chocolate chips\n",
            "   * 1/4 teaspoon fine sea salt\n",
            "1. Special Equipment\n",
            "   * A 10\"-diameter springform pan\n",
            "PREPARATION\n",
            "   1. Preheat oven to 350°F. Grease springform pan with butter and line bottom with parchment paper.\n",
            "   2. Using an electric mixer on high speed, beat eggs in a large bowl until doubled in size, about 5 minutes.\n",
            "   3. Place chocolate chips, salt, and 1 cup butter in a large microwave-proof bowl. Microwave on high in 10-second bursts, stirring between bursts, until smooth and pourable.\n",
            "   4. Using a rubber spatula, gently fold one-third of the whipped eggs into chocolate mixture until incorporated. Fold egg and chocolate mixture back into remaining whipped eggs until incorporated.\n",
            "   5. Transfer to prepared pan; cover bottom and sides of pan completely with foil. Set springform pan inside a large roasting pan; add hot water to a depth of about 1\".\n",
            "   6. Bake cake until a toothpick inserted into\n",
            "\n",
            "[610 | 2892.22] loss=0.02 avg=0.13\n",
            "[620 | 2938.51] loss=0.02 avg=0.13\n",
            "[630 | 2984.76] loss=0.02 avg=0.13\n",
            "[640 | 3030.95] loss=0.02 avg=0.13\n",
            "[650 | 3077.13] loss=0.02 avg=0.12\n",
            "[660 | 3123.15] loss=0.02 avg=0.12\n",
            "[670 | 3169.31] loss=0.02 avg=0.12\n",
            "[680 | 3215.40] loss=0.02 avg=0.12\n",
            "[690 | 3261.60] loss=0.03 avg=0.12\n",
            "[700 | 3307.76] loss=0.03 avg=0.12\n",
            "[710 | 3353.95] loss=0.02 avg=0.11\n",
            "[720 | 3400.09] loss=0.02 avg=0.11\n",
            "[730 | 3446.18] loss=0.03 avg=0.11\n",
            "[740 | 3492.30] loss=0.02 avg=0.11\n",
            "[750 | 3538.44] loss=0.02 avg=0.11\n",
            "[760 | 3584.57] loss=0.02 avg=0.11\n",
            "[770 | 3630.76] loss=0.02 avg=0.10\n",
            "[780 | 3676.87] loss=0.03 avg=0.10\n",
            "[790 | 3722.95] loss=0.02 avg=0.10\n",
            "[800 | 3769.06] loss=0.02 avg=0.10\n",
            "======== SAMPLE 1 ========\n",
            "able extract or tahini along with fresh lemon juice, if using. Stir or whisk until ready to shake.\n",
            "   3. Let cake cool in pan 10 minutes, then use a paring knife to loosen cake from edge of cake.\n",
            "   4. Place a wire rack over pan, then swiftly invert rack and pan; cake should release from pan on its own. Lift cake pan off cake, peel off parchment, and marvel at your creation. If some of the cherries cling to the parchment, tuck them back into place. Let cake cool completely.\n",
            "   5. Whisk remaining 1 cup sour cream with 1–2 Tbsp. sugar in a large bowl. Dollop on each slice before serving.\n",
            "\n",
            "\n",
            "Mochi Cake, Any Way You Want It\n",
            "INGREDIENTS\n",
            "   * 6 Tbsp. unsalted butter or virgin coconut oil, melted, plus more for pan\n",
            "   * 1½ cups (300 g) sugar, plus more for pan\n",
            "   * 1 (13.5-oz.) can unsweetened coconut milk or 1⅔ cups half-and-half\n",
            "   * 2 large eggs\n",
            "   * 2 tsp. vanilla extract\n",
            "   * 1 tsp. kosher salt\n",
            "   * 2 cups (254 g) glutinous sweet rice flour, preferably Koda Farms Blue Star Mochiko\n",
            "   * 3 Tbsp. powdered flavoring of choice (such as unsweetened cocoa powder, pandan leaf powder, or malted milk powder) or 1 Tbsp. matcha powder plus 2 Tbsp. glutinous sweet rice flour or 3 Tbsp. glutinous sweet rice flour\n",
            "   * 1 tsp. ground spice of choice (such as cinnamon, cardamom, or turmeric)\n",
            "   * 1 tsp. baking powder\n",
            "   * ¼–⅓ cup unsweetened shredded coconut or sesame seeds\n",
            "PREPARATION\n",
            "   1. Preheat oven to 350°F. Generously butter a 9\"-diameter cake pan or an 8x8\" baking pan or 14 cups of two standard 12-cup muffin pans. (If you only have 1 muffin pan, you can bake the extra batter in a small loaf pan or mini muffin pan, or just discard it.) Generously coat pan with sugar and beat with a wooden spoon until light and fluffy, 6–8 minutes.\n",
            "   2. Place 1½ cups (300 g) sugar and 6 Tbsp. butter in a large bowl. If using coconut milk, heat in a small saucepan over medium, whisking constantly, until no clumps remain, then whisk into sugar mixture. If using half-and-half, whisk directly into sugar mixture. Add eggs, vanilla, and salt and whisk to combine. Mixture should look much lighter in color and be lumpy.\n",
            "   3. Add dry ingredients and use a rubber spatula or wooden spoon to stir until just incorporated and incorporated. Run a butter knife around mixture, trying not to break it up too much, to gently incorporate. Transfer to prepared pan.\n",
            "   4. Bake cake until a tester inserted into the center comes out clean, 80–90 minutes. Transfer pan to a wire rack and let cake cool completely in pan, at least 2 hours. Using parchment overhang, lift cake out of pan and place on rack. Peel away parchment.\n",
            "   5. In a small bowl, stir together butter, flour, and salt. Stir in flour and run a small metal spatula or wooden spoon blade through dough to keep dough from spreading too much as it bakes.\n",
            "   6. Turn out dough onto a well-floured large sheet of parchment or wax paper (you can be generous with the flour since you’ll brush off the excess later). Dust dough with more flour, place another large sheet of parchment or waxed paper over, and roll to ½\" thick. Remove top sheet of parchment and brush off any excess flour with a dry pastry brush.\n",
            "   7. Punch out circles with a 3½\"-diameter biscuit or cookie cutter, glass, or mug. Punch out centers of rounds with a 1\"-diamter cutter or plastic twist-off bottle cap (or poke a hole with a chopstick, then gently pull hole open to widen the center). Reroll any scraps and punch out additional doughnuts and holes.\n",
            "   8. Fit a large pot with thermometer; pour in oil to come 1½\" up the sides of the pot. Heat over medium-high until thermometer registers 350°F. Fry doughnuts, turning halfway through, until puffy and a color somewhere between golden brown and mahogany, about 4 minutes total (time will be slightly less for doughnut holes). Using a spider or slotted spoon, transfer to a wire rack and let cool 10 minutes.\n",
            "   9. Meanwhile, whisk lemon\n",
            "\n",
            "[810 | 3832.24] loss=0.02 avg=0.10\n",
            "[820 | 3878.43] loss=0.02 avg=0.10\n",
            "[830 | 3924.63] loss=0.02 avg=0.10\n",
            "[840 | 3970.77] loss=0.02 avg=0.09\n",
            "[850 | 4017.00] loss=0.06 avg=0.09\n",
            "[860 | 4063.12] loss=0.05 avg=0.09\n",
            "[870 | 4109.26] loss=0.03 avg=0.09\n",
            "[880 | 4155.46] loss=0.03 avg=0.09\n",
            "[890 | 4201.66] loss=0.02 avg=0.09\n",
            "[900 | 4247.78] loss=0.02 avg=0.09\n",
            "[910 | 4293.90] loss=0.02 avg=0.09\n",
            "[920 | 4340.10] loss=0.02 avg=0.09\n",
            "[930 | 4386.19] loss=0.02 avg=0.08\n",
            "[940 | 4432.35] loss=0.02 avg=0.08\n",
            "[950 | 4478.51] loss=0.02 avg=0.08\n",
            "[960 | 4524.71] loss=0.02 avg=0.08\n",
            "[970 | 4570.90] loss=0.02 avg=0.08\n",
            "[980 | 4617.15] loss=0.02 avg=0.08\n",
            "[990 | 4663.31] loss=0.02 avg=0.08\n",
            "[1000 | 4709.44] loss=0.02 avg=0.08\n",
            "Saving checkpoint/run1/model-1000\n",
            "WARNING:tensorflow:From /tensorflow-1.15.2/python3.6/tensorflow_core/python/training/saver.py:963: remove_checkpoint (from tensorflow.python.training.checkpoint_management) is deprecated and will be removed in a future version.\n",
            "Instructions for updating:\n",
            "Use standard file APIs to delete files with this prefix.\n"
          ],
          "name": "stdout"
        }
      ]
    },
    {
      "cell_type": "markdown",
      "metadata": {
        "id": "IXSuTNERaw6K",
        "colab_type": "text"
      },
      "source": [
        "After the model is trained, you can copy the checkpoint folder to your own Google Drive.\n",
        "\n",
        "If you want to download it to your personal computer, it's strongly recommended you copy it there first, then download from Google Drive. The checkpoint folder is copied as a `.rar` compressed file; you can download it and uncompress it locally."
      ]
    },
    {
      "cell_type": "code",
      "metadata": {
        "id": "VHdTL8NDbAh3",
        "colab_type": "code",
        "colab": {}
      },
      "source": [
        "gpt2.copy_checkpoint_to_gdrive(run_name='run1')"
      ],
      "execution_count": 10,
      "outputs": []
    },
    {
      "cell_type": "markdown",
      "metadata": {
        "id": "qQJgV_b4bmzd",
        "colab_type": "text"
      },
      "source": [
        "You're done! Feel free to go to the **Generate Text From The Trained Model** section to generate text based on your retrained model."
      ]
    },
    {
      "cell_type": "markdown",
      "metadata": {
        "id": "pel-uBULXO2L",
        "colab_type": "text"
      },
      "source": [
        "## Load a Trained Model Checkpoint\n",
        "\n",
        "Running the next cell will copy the `.rar` checkpoint file from your Google Drive into the Colaboratory VM."
      ]
    },
    {
      "cell_type": "code",
      "metadata": {
        "id": "DCcx5u7sbPTD",
        "colab_type": "code",
        "colab": {}
      },
      "source": [
        "gpt2.copy_checkpoint_from_gdrive(run_name='run1')"
      ],
      "execution_count": 12,
      "outputs": []
    },
    {
      "cell_type": "markdown",
      "metadata": {
        "id": "RTa6zf3e_9gV",
        "colab_type": "text"
      },
      "source": [
        "The next cell will allow you to load the retrained model checkpoint + metadata necessary to generate text.\n",
        "\n",
        "**IMPORTANT NOTE:** If you want to rerun this cell, **restart the VM first** (Runtime -> Restart Runtime). You will need to rerun imports but not recopy files."
      ]
    },
    {
      "cell_type": "code",
      "metadata": {
        "id": "-fxL77nvAMAX",
        "colab_type": "code",
        "colab": {}
      },
      "source": [
        "sess = gpt2.start_tf_sess()\n",
        "gpt2.load_gpt2(sess, run_name='run1')"
      ],
      "execution_count": null,
      "outputs": []
    },
    {
      "cell_type": "markdown",
      "metadata": {
        "id": "ClJwpF_ACONp",
        "colab_type": "text"
      },
      "source": [
        "## Generate Text From The Trained Model\n",
        "\n",
        "After you've trained the model or loaded a retrained model from checkpoint, you can now generate text. `generate` generates a single text from the loaded model."
      ]
    },
    {
      "cell_type": "code",
      "metadata": {
        "id": "4RNY6RBI9LmL",
        "colab_type": "code",
        "colab": {
          "base_uri": "https://localhost:8080/",
          "height": 768
        },
        "outputId": "86a66103-c84e-4ef9-bac9-b4471390cff7"
      },
      "source": [
        "gpt2.generate(sess, run_name='run1')"
      ],
      "execution_count": 11,
      "outputs": [
        {
          "output_type": "stream",
          "text": [
            "Ingredients\n",
            "Streusel Topping:\n",
            "Lemon-Lemon Ice Cream Cake\n",
            "INGREDIENTS\n",
            "Streusel\n",
            "   * 1/2 cup (1 stick) unsalted butter\n",
            "   * 1 lemon\n",
            "   * 2 (10-ounce) bags frozen sweet cherries or blueberries (no need to thaw)\n",
            "   * 2 tablespoons plus 1 cup sugar; plus more for serving\n",
            "   * 2 cups all-purpose flour\n",
            "   * 2 teaspoons baking powder\n",
            "   * 1/2 teaspoon kosher salt\n",
            "   * 1/4 teaspoon baking soda\n",
            "   * 3 large eggs, room temperature\n",
            "   * 2 cups sour cream or whole plain yogurt, room temperature, divided\n",
            "1. Special Equipment\n",
            "   * 1 (9-inch) round cake pan with sides that measure at least 1 1/2-inches high\n",
            "PREPARATION\n",
            "   1. Arrange a rack in center of oven; preheat to 425°F. Take this time to assemble all your ingredients and do your prep. Melt 1/2 cup (1 stick) butter in small bowl in a microwave or in a small saucepan over medium heat and let cool. Finely grate zest of whole lemon, then squeeze 2 Tbsp. juice; set aside.\n",
            "   2. Brush 1 Tbsp. melted butter around bottom and sides of cake pan (if you don’t have a pastry brush, use your fingertips). Line bottom of pan with a circle of parchment paper, smoothing to eliminate air bubbles between parchment and pan. Making a parchment circle is easy: just place your pan on a piece of parchment, trace the circumference with a pencil, then cut it out.\n",
            "   3. Toss cherries, 2 Tbsp. sugar, 2 Tbsp. lemon juice, and 2 Tbsp. melted butter in cake pan (fruit will clump up when it hits the melted butter, which is fine). It’ll all melt together as it bakes.\n",
            "   4. Bake cherries, gently shaking pan once halfway through, until fruit juices are thick and bubbling around sides of pan, 40–50 minutes. Let cool. Reduce oven temperature to 350°F.\n",
            "   5. Whisk 2 cups flour, 2 tsp. baking powder, 1/2 tsp. salt, 1/4 tsp. baking soda, and 1 cup sugar in a large bowl.\n",
            "   6. Make a well in the center of dry ingredients. Beat 3 eggs to blend and pour into center of well along with 1 cup sour cream, 2 tsp. lemon zest, and remaining 5 Tbsp. melted butter (it’s okay if butter has re-solidified; go ahead and scrape it in there).\n",
            "   7. Starting in the center, whisk to blend egg mixture, then make larger circles outward to incorporate dry ingredients. Whisk several more times until batter is smooth.\n",
            "   8. Carefully dollop large spoonfuls of batter over fruit (it’s okay if pan is still warm and some fruit juices pool around batter); gently smooth surface.\n",
            "   9. Bake cake until top is golden brown and a tester or toothpick inserted into the center comes out clean, 45–55 minutes.\n",
            "   10. Let cake cool in pan 10 minutes, then use a paring knife to loosen cake from edge of pan.\n",
            "   11. Place a wire rack over pan, then swiftly invert rack and pan; cake should release from pan on its own. Lift cake pan off cake, peel off parchment, and marvel at your creation. If some of the cherries cling to the parchment, tuck them back into place. Let cake cool completely.\n",
            "   12. Whisk remaining 1 cup sour cream with 1–2 Tbsp. sugar in a large bowl. Dollop on each slice before serving.\n",
            "\n",
            "\n",
            "Mochi Cake, Any Way You Want It\n",
            "INGREDIENTS\n",
            "   * 6 Tbsp. unsalted butter or virgin coconut oil, melted, plus more for pan\n",
            "   * 1½ cups (300 g) sugar, plus more for pan\n",
            "   * 1 (13.5-oz.) can unsweetened coconut milk or 1⅔ cups half-and-half\n",
            "   * 2 large eggs\n",
            "   * 2 tsp. vanilla extract\n",
            "   * 1 tsp. kosher salt\n",
            "   * 2 cups (254 g) glutinous sweet rice flour, preferably Koda Farms Blue Star Mochiko\n",
            "   * 3 Tbsp. powdered flavoring of choice (such as unsweetened cocoa powder, pandan leaf powder, or malted milk powder) or 1 Tbsp. matcha powder plus 2 Tbsp. glutinous sweet rice flour or 3 Tbsp. glutinous sweet rice flour\n",
            "   * 1 tsp. ground spice of choice (such as cinnamon, card\n"
          ],
          "name": "stdout"
        }
      ]
    },
    {
      "cell_type": "markdown",
      "metadata": {
        "id": "oF4-PqF0Fl7R",
        "colab_type": "text"
      },
      "source": [
        "If you're creating an API based on your model and need to pass the generated text elsewhere, you can do `text = gpt2.generate(sess, return_as_list=True)[0]`\n",
        "\n",
        "You can also pass in a `prefix` to the generate function to force the text to start with a given character sequence and generate text from there (good if you add an indicator when the text starts).\n",
        "\n",
        "You can also generate multiple texts at a time by specifing `nsamples`. Unique to GPT-2, you can pass a `batch_size` to generate multiple samples in parallel, giving a massive speedup (in Colaboratory, set a maximum of 20 for `batch_size`).\n",
        "\n",
        "Other optional-but-helpful parameters for `gpt2.generate` and friends:\n",
        "\n",
        "*  **`length`**: Number of tokens to generate (default 1023, the maximum)\n",
        "* **`temperature`**: The higher the temperature, the crazier the text (default 0.7, recommended to keep between 0.7 and 1.0)\n",
        "* **`top_k`**: Limits the generated guesses to the top *k* guesses (default 0 which disables the behavior; if the generated output is super crazy, you may want to set `top_k=40`)\n",
        "* **`top_p`**: Nucleus sampling: limits the generated guesses to a cumulative probability. (gets good results on a dataset with `top_p=0.9`)\n",
        "* **`truncate`**: Truncates the input text until a given sequence, excluding that sequence (e.g. if `truncate='<|endoftext|>'`, the returned text will include everything before the first `<|endoftext|>`). It may be useful to combine this with a smaller `length` if the input texts are short.\n",
        "*  **`include_prefix`**: If using `truncate` and `include_prefix=False`, the specified `prefix` will not be included in the returned text."
      ]
    },
    {
      "cell_type": "code",
      "metadata": {
        "id": "8DKMc0fiej4N",
        "colab_type": "code",
        "colab": {}
      },
      "source": [
        "gpt2.generate(sess,\n",
        "              length=250,\n",
        "              temperature=0.7,\n",
        "              prefix=\"LORD\",\n",
        "              nsamples=5,\n",
        "              batch_size=5\n",
        "              )"
      ],
      "execution_count": null,
      "outputs": []
    },
    {
      "cell_type": "markdown",
      "metadata": {
        "id": "zjjEN2Tafhl2",
        "colab_type": "text"
      },
      "source": [
        "For bulk generation, you can generate a large amount of text to a file and sort out the samples locally on your computer. The next cell will generate a generated text file with a unique timestamp.\n",
        "\n",
        "You can rerun the cells as many times as you want for even more generated texts!"
      ]
    },
    {
      "cell_type": "code",
      "metadata": {
        "id": "Fa6p6arifSL0",
        "colab_type": "code",
        "colab": {}
      },
      "source": [
        "gen_file = 'gpt2_gentext_{:%Y%m%d_%H%M%S}.txt'.format(datetime.utcnow())\n",
        "\n",
        "gpt2.generate_to_file(sess,\n",
        "                      destination_path=gen_file,\n",
        "                      length=500,\n",
        "                      temperature=0.7,\n",
        "                      nsamples=100,\n",
        "                      batch_size=20\n",
        "                      )"
      ],
      "execution_count": null,
      "outputs": []
    },
    {
      "cell_type": "code",
      "metadata": {
        "id": "0-LRex8lfv1g",
        "colab_type": "code",
        "colab": {}
      },
      "source": [
        "# may have to run twice to get file to download\n",
        "files.download(gen_file)"
      ],
      "execution_count": null,
      "outputs": []
    },
    {
      "cell_type": "markdown",
      "metadata": {
        "id": "QQAN3M6RT7Kj",
        "colab_type": "text"
      },
      "source": [
        "## Generate Text From The Pretrained Model\n",
        "\n",
        "If you want to generate text from the pretrained model, not a finetuned model, pass `model_name` to `gpt2.load_gpt2()` and `gpt2.generate()`.\n",
        "\n",
        "This is currently the only way to generate text from the 774M or 1558M models with this notebook."
      ]
    },
    {
      "cell_type": "code",
      "metadata": {
        "id": "hsUd_jHgUZnD",
        "colab_type": "code",
        "colab": {}
      },
      "source": [
        "model_name = \"774M\"\n",
        "\n",
        "gpt2.download_gpt2(model_name=model_name)"
      ],
      "execution_count": null,
      "outputs": []
    },
    {
      "cell_type": "code",
      "metadata": {
        "id": "BAe4NpKNUj2C",
        "colab_type": "code",
        "colab": {}
      },
      "source": [
        "sess = gpt2.start_tf_sess()\n",
        "\n",
        "gpt2.load_gpt2(sess, model_name=model_name)"
      ],
      "execution_count": null,
      "outputs": []
    },
    {
      "cell_type": "code",
      "metadata": {
        "id": "-xInIZKaU104",
        "colab_type": "code",
        "colab": {}
      },
      "source": [
        "gpt2.generate(sess,\n",
        "              model_name=model_name,\n",
        "              prefix=\"The secret of life is\",\n",
        "              length=100,\n",
        "              temperature=0.7,\n",
        "              top_p=0.9,\n",
        "              nsamples=5,\n",
        "              batch_size=5\n",
        "              )"
      ],
      "execution_count": null,
      "outputs": []
    },
    {
      "cell_type": "markdown",
      "metadata": {
        "id": "ig-KVgkCDCKD",
        "colab_type": "text"
      },
      "source": [
        "# Etcetera\n",
        "\n",
        "If the notebook has errors (e.g. GPU Sync Fail), force-kill the Colaboratory virtual machine and restart it with the command below:"
      ]
    },
    {
      "cell_type": "code",
      "metadata": {
        "id": "rIHiVP53FnsX",
        "colab_type": "code",
        "colab": {}
      },
      "source": [
        "!kill -9 -1"
      ],
      "execution_count": null,
      "outputs": []
    },
    {
      "cell_type": "markdown",
      "metadata": {
        "id": "wmTXWNUygS5E",
        "colab_type": "text"
      },
      "source": [
        "# LICENSE\n",
        "\n",
        "MIT License\n",
        "\n",
        "Copyright (c) 2019 Max Woolf\n",
        "\n",
        "Permission is hereby granted, free of charge, to any person obtaining a copy\n",
        "of this software and associated documentation files (the \"Software\"), to deal\n",
        "in the Software without restriction, including without limitation the rights\n",
        "to use, copy, modify, merge, publish, distribute, sublicense, and/or sell\n",
        "copies of the Software, and to permit persons to whom the Software is\n",
        "furnished to do so, subject to the following conditions:\n",
        "\n",
        "The above copyright notice and this permission notice shall be included in all\n",
        "copies or substantial portions of the Software.\n",
        "\n",
        "THE SOFTWARE IS PROVIDED \"AS IS\", WITHOUT WARRANTY OF ANY KIND, EXPRESS OR\n",
        "IMPLIED, INCLUDING BUT NOT LIMITED TO THE WARRANTIES OF MERCHANTABILITY,\n",
        "FITNESS FOR A PARTICULAR PURPOSE AND NONINFRINGEMENT. IN NO EVENT SHALL THE\n",
        "AUTHORS OR COPYRIGHT HOLDERS BE LIABLE FOR ANY CLAIM, DAMAGES OR OTHER\n",
        "LIABILITY, WHETHER IN AN ACTION OF CONTRACT, TORT OR OTHERWISE, ARISING FROM,\n",
        "OUT OF OR IN CONNECTION WITH THE SOFTWARE OR THE USE OR OTHER DEALINGS IN THE\n",
        "SOFTWARE."
      ]
    }
  ]
}